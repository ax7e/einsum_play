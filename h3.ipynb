{
    "cells": [
        {
            "cell_type": "code",
            "execution_count": 1,
            "source": [
                "import numpy as np\n",
                "import cupy as cp\n",
                "from cupy import cutensor\n",
                "from time import perf_counter_ns\n",
                "\n",
                "def generateTestDataDim(p, q, numberOfCell, geometryDim=3, topologyDim=3):\n",
                "    I = q * (q+1) * (q+2) / 6\n",
                "    K = M = (p+1) * (p+2) * (p+3) / 6\n",
                "    J = numberOfCell\n",
                "    L = geometryDim\n",
                "    return list(map(int, (I, J, K, L, M)))\n",
                "\n",
                "dtype = np.float32\n",
                "\n",
                "I, J, K, L, M = generateTestDataDim(3, 3, 100000)\n",
                "print(\"Data benchmark:[I,J,K,L,M]=[{},{},{},{},{}]\\n\".format(I, J, K, L, M))\n",
                "a = np.random.rand(I).astype(dtype)\n",
                "b = np.random.rand(I, J, K, L).astype(dtype)\n",
                "c = np.random.rand(I, J, M, L).astype(dtype)\n",
                "d = np.random.rand(J).astype(dtype)\n",
                "\n",
                "warmup=1\n",
                "cycle=5\n",
                "\n",
                "# for plot\n",
                "time_data=[]\n",
                "method_name=[]\n",
                "acc=[]\n"
            ],
            "outputs": [
                {
                    "output_type": "stream",
                    "name": "stdout",
                    "text": [
                        "Data benchmark:[I,J,K,L,M]=[10,100000,20,3,20]\n",
                        "\n"
                    ]
                }
            ],
            "metadata": {}
        },
        {
            "cell_type": "code",
            "execution_count": 2,
            "source": [
                "print(\"Method: numpy.einsum (baseline)\")\n",
                "t_avg=0.0\n",
                "for i in range(2):\n",
                "    t1_start = perf_counter_ns()\n",
                "    e0 = np.einsum('i, ijkl, ijml, j->jkm', a, b, c, d)\n",
                "    t1_stop = perf_counter_ns()\n",
                "    t1 = (t1_stop-t1_start) / 1e6\n",
                "    print(f\"Cycle {i+1}: {t1:5.5f} ms.\")\n",
                "    if i >= warmup:\n",
                "        t_avg += t1\n",
                "time = t_avg/(1)\n",
                "print(f\"Average time: {time:5.5f} ms\")\n",
                "baseline_time = time\n",
                "\n",
                "time_data.append(time)\n",
                "method_name.append(\"numpy.einsum\")\n",
                "acc.append(np.nan)"
            ],
            "outputs": [
                {
                    "output_type": "stream",
                    "name": "stdout",
                    "text": [
                        "Method: numpy.einsum (baseline)\n",
                        "Cycle 1: 13829.34065 ms.\n",
                        "Cycle 2: 13969.82669 ms.\n",
                        "Average time: 13969.82669 ms\n"
                    ]
                }
            ],
            "metadata": {}
        },
        {
            "cell_type": "code",
            "execution_count": 3,
            "source": [
                "print(\"Method: cupy.einsum\")\n",
                "\n",
                "a_gpu = cp.asarray(a)\n",
                "b_gpu = cp.asarray(b)\n",
                "c_gpu = cp.asarray(c)\n",
                "d_gpu = cp.asarray(d)\n",
                "\n",
                "t_avg=0\n",
                "for i in range(cycle):\n",
                "    cp.cuda.Stream.null.synchronize()\n",
                "    t1_start = perf_counter_ns()\n",
                "    e_gpu = cp.empty((J, K, M)).astype(dtype)\n",
                "    e_gpu[:, :, :] = cp.einsum(\n",
                "        'i, ijkl, ijml, j->jkm', a_gpu, b_gpu, c_gpu, d_gpu)\n",
                "    e1 = e_gpu.get()\n",
                "    cp.cuda.Stream.null.synchronize()\n",
                "    t1_stop = perf_counter_ns()\n",
                "    assert(np.allclose(e1,e0))\n",
                "    t1 = (t1_stop-t1_start) / 1e6\n",
                "    print(f\"Cycle {i+1}: {t1:5.5f} ms.\")\n",
                "    if i >= warmup:\n",
                "        t_avg += t1\n",
                "time = t_avg/(cycle-warmup)\n",
                "acc_rate = baseline_time/time\n",
                "print(f\"Average time: {time:5.5f} ms\")\n",
                "print(f\"Accelerate  : {acc_rate:5.5}\")\n",
                "\n",
                "time_data.append(time)\n",
                "method_name.append(\"cupy.einsum\")\n",
                "acc.append(acc_rate)\n"
            ],
            "outputs": [
                {
                    "output_type": "stream",
                    "name": "stdout",
                    "text": [
                        "Method: cupy.einsum\n",
                        "Cycle 1: 686.97516 ms.\n",
                        "Cycle 2: 96.90664 ms.\n",
                        "Cycle 3: 96.28794 ms.\n",
                        "Cycle 4: 95.66406 ms.\n",
                        "Cycle 5: 96.48352 ms.\n",
                        "Average time: 96.33554 ms\n",
                        "Accelerate  : 145.01\n"
                    ]
                }
            ],
            "metadata": {}
        },
        {
            "cell_type": "code",
            "execution_count": 4,
            "source": [
                "print(\"Method: cutensor-manual\")\n",
                "\n",
                "extent = {'i': I, 'j': J, 'k': K, 'm': M, 'l': L}\n",
                "mode_a = ('i')\n",
                "mode_b = ('i', 'j', 'k', 'l')\n",
                "mode_c = ('i', 'j', 'm', 'l')\n",
                "mode_d = ('j')\n",
                "mode_e = ('j', 'k', 'm')\n",
                "mode_f = ('i', 'j', 'k', 'm')\n",
                "mode_g = ('i', 'j')\n",
                "mode_a = cutensor.create_mode(*mode_a)\n",
                "mode_b = cutensor.create_mode(*mode_b)\n",
                "mode_c = cutensor.create_mode(*mode_c)\n",
                "mode_d = cutensor.create_mode(*mode_d)\n",
                "mode_e = cutensor.create_mode(*mode_e)\n",
                "mode_f = cutensor.create_mode(*mode_f)\n",
                "mode_g = cutensor.create_mode(*mode_g)\n",
                "\n",
                "desc_a = cutensor.create_tensor_descriptor(a_gpu)\n",
                "desc_b = cutensor.create_tensor_descriptor(b_gpu)\n",
                "desc_c = cutensor.create_tensor_descriptor(c_gpu)\n",
                "desc_d = cutensor.create_tensor_descriptor(d_gpu)\n",
                "f_gpu = cp.empty((I, J, K, M)).astype(dtype)\n",
                "g_gpu = cp.empty((I, J)).astype(dtype)\n",
                "e_gpu = cp.empty((J, K, M)).astype(dtype)\n",
                "desc_g = cutensor.create_tensor_descriptor(g_gpu)\n",
                "desc_f = cutensor.create_tensor_descriptor(f_gpu)\n",
                "desc_e = cutensor.create_tensor_descriptor(e_gpu)\n",
                "\n",
                "t_avg=0\n",
                "for i in range(cycle):\n",
                "    cp.cuda.Stream.null.synchronize()\n",
                "    t1_start = perf_counter_ns()\n",
                "    desc_a = cutensor.create_tensor_descriptor(a_gpu)\n",
                "    desc_b = cutensor.create_tensor_descriptor(b_gpu)\n",
                "    desc_c = cutensor.create_tensor_descriptor(c_gpu)\n",
                "    desc_d = cutensor.create_tensor_descriptor(d_gpu)\n",
                "    f_gpu = cp.empty((I, J, K, M)).astype(dtype)\n",
                "    g_gpu = cp.empty((I, J)).astype(dtype)\n",
                "    e_gpu = cp.empty((J, K, M)).astype(dtype)\n",
                "    desc_g = cutensor.create_tensor_descriptor(g_gpu)\n",
                "    desc_f = cutensor.create_tensor_descriptor(f_gpu)\n",
                "    desc_e = cutensor.create_tensor_descriptor(e_gpu)\n",
                "    f_gpu = cutensor.contraction(1.0,\n",
                "                                 b_gpu, desc_b, mode_b,\n",
                "                                 c_gpu, desc_c, mode_c,\n",
                "                                 0.0,\n",
                "                                 f_gpu, desc_f, mode_f)\n",
                "    g_gpu = cutensor.contraction(1.0,\n",
                "                                 a_gpu, desc_a, mode_a,\n",
                "                                 d_gpu, desc_d, mode_d,\n",
                "                                 0.0,\n",
                "                                 g_gpu, desc_g, mode_g)\n",
                "    e_gpu = cutensor.contraction(1.0,\n",
                "                                 f_gpu, desc_f, mode_f,\n",
                "                                 g_gpu, desc_g, mode_g,\n",
                "                                 0.0,\n",
                "                                 e_gpu, desc_e, mode_e)\n",
                "    cp.cuda.Stream.null.synchronize()\n",
                "    t1_stop = perf_counter_ns()\n",
                "    t1 = (t1_stop-t1_start) / 1e6\n",
                "    e2 = e_gpu.get()\n",
                "    assert(np.allclose(e2, e0))\n",
                "    print(f\"Cycle {i+1}: {t1:5.5f} ms\")\n",
                "    if i >= warmup:\n",
                "        t_avg += t1\n",
                "time = t_avg/(cycle-warmup)\n",
                "acc_rate = baseline_time/time\n",
                "print(f\"Average time: {time:5.5f} ms\")\n",
                "print(f\"Accelerate  : {acc_rate:5.5f}\")\n",
                "\n",
                "time_data.append(time)\n",
                "method_name.append(\"cutensor\")\n",
                "acc.append(acc_rate)\n"
            ],
            "outputs": [
                {
                    "output_type": "stream",
                    "name": "stdout",
                    "text": [
                        "Method: cutensor-manual\n",
                        "Cycle 1: 31.66085 ms\n",
                        "Cycle 2: 31.71498 ms\n",
                        "Cycle 3: 31.69063 ms\n",
                        "Cycle 4: 31.64048 ms\n",
                        "Cycle 5: 31.68321 ms\n",
                        "Average time: 31.68232 ms\n",
                        "Accelerate  : 440.93440\n"
                    ]
                }
            ],
            "metadata": {}
        },
        {
            "cell_type": "code",
            "execution_count": 5,
            "source": [
                "print(\"Method: cutensor-manual\")\n",
                "\n",
                "extent = {'i': I, 'j': J, 'k': K, 'm': M, 'l': L}\n",
                "mode_a = ('i')\n",
                "mode_b = ('i', 'j', 'k', 'l')\n",
                "mode_c = ('i', 'j', 'm', 'l')\n",
                "mode_d = ('j')\n",
                "mode_e = ('j', 'k', 'm')\n",
                "mode_f = ('i', 'j', 'k', 'l')\n",
                "mode_g = ('j', 'k', 'm')\n",
                "mode_a = cutensor.create_mode(*mode_a)\n",
                "mode_b = cutensor.create_mode(*mode_b)\n",
                "mode_c = cutensor.create_mode(*mode_c)\n",
                "mode_d = cutensor.create_mode(*mode_d)\n",
                "mode_e = cutensor.create_mode(*mode_e)\n",
                "mode_f = cutensor.create_mode(*mode_f)\n",
                "mode_g = cutensor.create_mode(*mode_g)\n",
                "\n",
                "t_avg = 0\n",
                "for i in range(cycle):\n",
                "    cp.cuda.Stream.null.synchronize()\n",
                "    t1_start = perf_counter_ns()\n",
                "    desc_a = cutensor.create_tensor_descriptor(a_gpu)\n",
                "    desc_b = cutensor.create_tensor_descriptor(b_gpu)\n",
                "    desc_c = cutensor.create_tensor_descriptor(c_gpu)\n",
                "    desc_d = cutensor.create_tensor_descriptor(d_gpu)\n",
                "    f_gpu = cp.empty((I, J, K, L)).astype(dtype)\n",
                "    e_gpu = cp.empty((J, K, M)).astype(dtype)\n",
                "    g_gpu = cp.empty((J, K, M)).astype(dtype)\n",
                "    desc_g = cutensor.create_tensor_descriptor(g_gpu)\n",
                "    desc_f = cutensor.create_tensor_descriptor(f_gpu)\n",
                "    desc_e = cutensor.create_tensor_descriptor(e_gpu)\n",
                "    f_gpu = cutensor.contraction(1.0,\n",
                "                                 a_gpu, desc_a, mode_a,\n",
                "                                 b_gpu, desc_b, mode_b,\n",
                "                                 0.0,\n",
                "                                 f_gpu, desc_f, mode_f)\n",
                "    g_gpu = cutensor.contraction(1.0,\n",
                "                                 f_gpu, desc_f, mode_f,\n",
                "                                 c_gpu, desc_c, mode_c,\n",
                "                                 0.0,\n",
                "                                 g_gpu, desc_g, mode_g)\n",
                "    e_gpu = cutensor.contraction(1.0,\n",
                "                                 g_gpu, desc_g, mode_g,\n",
                "                                 d_gpu, desc_d, mode_d,\n",
                "                                 0.0,\n",
                "                                 e_gpu, desc_e, mode_e)\n",
                "    cp.cuda.Stream.null.synchronize()\n",
                "    t1_stop = perf_counter_ns()\n",
                "    t1 = (t1_stop-t1_start) / 1e6\n",
                "    e2 = e_gpu.get()\n",
                "    assert(np.allclose(e2, e0))\n",
                "    print(f\"Cycle {i+1}: {t1:5.5f} ms\")\n",
                "    if i >= warmup:\n",
                "        t_avg += t1\n",
                "time = t_avg/(cycle-warmup)\n",
                "acc_rate = baseline_time/time\n",
                "print(f\"Average time: {time:5.5f} ms\")\n",
                "print(f\"Accelerate  : {acc_rate:5.5f}\")\n",
                "\n",
                "time_data.append(time)\n",
                "method_name.append(\"cutensor-optimized\")\n",
                "acc.append(acc_rate)\n"
            ],
            "outputs": [
                {
                    "output_type": "stream",
                    "name": "stdout",
                    "text": [
                        "Method: cutensor-manual\n",
                        "Cycle 1: 9.49210 ms\n",
                        "Cycle 2: 9.50723 ms\n",
                        "Cycle 3: 9.49529 ms\n",
                        "Cycle 4: 9.50916 ms\n",
                        "Cycle 5: 9.49529 ms\n",
                        "Average time: 9.50174 ms\n",
                        "Accelerate  : 1470.23852\n"
                    ]
                }
            ],
            "metadata": {}
        },
        {
            "cell_type": "code",
            "execution_count": 10,
            "source": [
                "import matplotlib.pyplot as plt\n",
                "plt.bar(method_name,height=time_data,label=\"Method\",width=0.3)\n",
                "plt.title(\"Executing time and accelerate rate from different einsum methods.\")\n",
                "plt.ylabel(\"time/ms\")\n",
                "plt.yscale(\"log\")\n",
                "sec = plt.gca().twinx()\n",
                "sec.plot(acc,color='g')\n",
                "sec.set_yscale(\"log\")\n",
                "sec.set_ylabel(\"Accelerate\")\n",
                "sec.set_ylim([1e2,3e3])\n"
            ],
            "outputs": [
                {
                    "output_type": "execute_result",
                    "data": {
                        "text/plain": [
                            "(100.0, 3000.0)"
                        ]
                    },
                    "metadata": {},
                    "execution_count": 10
                },
                {
                    "output_type": "display_data",
                    "data": {
                        "text/plain": [
                            "<Figure size 432x288 with 2 Axes>"
                        ],
                        "image/svg+xml": "<?xml version=\"1.0\" encoding=\"utf-8\" standalone=\"no\"?>\n<!DOCTYPE svg PUBLIC \"-//W3C//DTD SVG 1.1//EN\"\n  \"http://www.w3.org/Graphics/SVG/1.1/DTD/svg11.dtd\">\n<svg height=\"263.63625pt\" version=\"1.1\" viewBox=\"0 0 425.75625 263.63625\" width=\"425.75625pt\" xmlns=\"http://www.w3.org/2000/svg\" xmlns:xlink=\"http://www.w3.org/1999/xlink\">\n <metadata>\n  <rdf:RDF xmlns:cc=\"http://creativecommons.org/ns#\" xmlns:dc=\"http://purl.org/dc/elements/1.1/\" xmlns:rdf=\"http://www.w3.org/1999/02/22-rdf-syntax-ns#\">\n   <cc:Work>\n    <dc:type rdf:resource=\"http://purl.org/dc/dcmitype/StillImage\"/>\n    <dc:date>2021-08-19T14:27:45.746800</dc:date>\n    <dc:format>image/svg+xml</dc:format>\n    <dc:creator>\n     <cc:Agent>\n      <dc:title>Matplotlib v3.4.2, https://matplotlib.org/</dc:title>\n     </cc:Agent>\n    </dc:creator>\n   </cc:Work>\n  </rdf:RDF>\n </metadata>\n <defs>\n  <style type=\"text/css\">*{stroke-linecap:butt;stroke-linejoin:round;}</style>\n </defs>\n <g id=\"figure_1\">\n  <g id=\"patch_1\">\n   <path d=\"M 0 263.63625 \nL 425.75625 263.63625 \nL 425.75625 0 \nL 0 0 \nz\n\" style=\"fill:none;\"/>\n  </g>\n  <g id=\"axes_1\">\n   <g id=\"patch_2\">\n    <path d=\"M 45.478125 239.758125 \nL 380.278125 239.758125 \nL 380.278125 22.318125 \nL 45.478125 22.318125 \nz\n\" style=\"fill:#ffffff;\"/>\n   </g>\n   <g id=\"patch_3\">\n    <path clip-path=\"url(#pa2a7612a2c)\" d=\"M 60.696307 62699.652446 \nL 88.365728 62699.652446 \nL 88.365728 32.201761 \nL 60.696307 32.201761 \nz\n\" style=\"fill:#1f77b4;\"/>\n   </g>\n   <g id=\"patch_4\">\n    <path clip-path=\"url(#pa2a7612a2c)\" d=\"M 152.927712 62699.652446 \nL 180.597133 62699.652446 \nL 180.597133 167.092322 \nL 152.927712 167.092322 \nz\n\" style=\"fill:#1f77b4;\"/>\n   </g>\n   <g id=\"patch_5\">\n    <path clip-path=\"url(#pa2a7612a2c)\" d=\"M 245.159117 62699.652446 \nL 272.828538 62699.652446 \nL 272.828538 197.233848 \nL 245.159117 197.233848 \nz\n\" style=\"fill:#1f77b4;\"/>\n   </g>\n   <g id=\"patch_6\">\n    <path clip-path=\"url(#pa2a7612a2c)\" d=\"M 337.390522 62699.652446 \nL 365.059943 62699.652446 \nL 365.059943 229.874489 \nL 337.390522 229.874489 \nz\n\" style=\"fill:#1f77b4;\"/>\n   </g>\n   <g id=\"matplotlib.axis_1\">\n    <g id=\"xtick_1\">\n     <g id=\"line2d_1\">\n      <defs>\n       <path d=\"M 0 0 \nL 0 3.5 \n\" id=\"mc1adac3251\" style=\"stroke:#000000;stroke-width:0.8;\"/>\n      </defs>\n      <g>\n       <use style=\"stroke:#000000;stroke-width:0.8;\" x=\"74.531018\" xlink:href=\"#mc1adac3251\" y=\"239.758125\"/>\n      </g>\n     </g>\n     <g id=\"text_1\">\n      <!-- numpy.einsum -->\n      <g transform=\"translate(38.034924 254.356563)scale(0.1 -0.1)\">\n       <defs>\n        <path d=\"M 3513 2113 \nL 3513 0 \nL 2938 0 \nL 2938 2094 \nQ 2938 2591 2744 2837 \nQ 2550 3084 2163 3084 \nQ 1697 3084 1428 2787 \nQ 1159 2491 1159 1978 \nL 1159 0 \nL 581 0 \nL 581 3500 \nL 1159 3500 \nL 1159 2956 \nQ 1366 3272 1645 3428 \nQ 1925 3584 2291 3584 \nQ 2894 3584 3203 3211 \nQ 3513 2838 3513 2113 \nz\n\" id=\"DejaVuSans-6e\" transform=\"scale(0.015625)\"/>\n        <path d=\"M 544 1381 \nL 544 3500 \nL 1119 3500 \nL 1119 1403 \nQ 1119 906 1312 657 \nQ 1506 409 1894 409 \nQ 2359 409 2629 706 \nQ 2900 1003 2900 1516 \nL 2900 3500 \nL 3475 3500 \nL 3475 0 \nL 2900 0 \nL 2900 538 \nQ 2691 219 2414 64 \nQ 2138 -91 1772 -91 \nQ 1169 -91 856 284 \nQ 544 659 544 1381 \nz\nM 1991 3584 \nL 1991 3584 \nz\n\" id=\"DejaVuSans-75\" transform=\"scale(0.015625)\"/>\n        <path d=\"M 3328 2828 \nQ 3544 3216 3844 3400 \nQ 4144 3584 4550 3584 \nQ 5097 3584 5394 3201 \nQ 5691 2819 5691 2113 \nL 5691 0 \nL 5113 0 \nL 5113 2094 \nQ 5113 2597 4934 2840 \nQ 4756 3084 4391 3084 \nQ 3944 3084 3684 2787 \nQ 3425 2491 3425 1978 \nL 3425 0 \nL 2847 0 \nL 2847 2094 \nQ 2847 2600 2669 2842 \nQ 2491 3084 2119 3084 \nQ 1678 3084 1418 2786 \nQ 1159 2488 1159 1978 \nL 1159 0 \nL 581 0 \nL 581 3500 \nL 1159 3500 \nL 1159 2956 \nQ 1356 3278 1631 3431 \nQ 1906 3584 2284 3584 \nQ 2666 3584 2933 3390 \nQ 3200 3197 3328 2828 \nz\n\" id=\"DejaVuSans-6d\" transform=\"scale(0.015625)\"/>\n        <path d=\"M 1159 525 \nL 1159 -1331 \nL 581 -1331 \nL 581 3500 \nL 1159 3500 \nL 1159 2969 \nQ 1341 3281 1617 3432 \nQ 1894 3584 2278 3584 \nQ 2916 3584 3314 3078 \nQ 3713 2572 3713 1747 \nQ 3713 922 3314 415 \nQ 2916 -91 2278 -91 \nQ 1894 -91 1617 61 \nQ 1341 213 1159 525 \nz\nM 3116 1747 \nQ 3116 2381 2855 2742 \nQ 2594 3103 2138 3103 \nQ 1681 3103 1420 2742 \nQ 1159 2381 1159 1747 \nQ 1159 1113 1420 752 \nQ 1681 391 2138 391 \nQ 2594 391 2855 752 \nQ 3116 1113 3116 1747 \nz\n\" id=\"DejaVuSans-70\" transform=\"scale(0.015625)\"/>\n        <path d=\"M 2059 -325 \nQ 1816 -950 1584 -1140 \nQ 1353 -1331 966 -1331 \nL 506 -1331 \nL 506 -850 \nL 844 -850 \nQ 1081 -850 1212 -737 \nQ 1344 -625 1503 -206 \nL 1606 56 \nL 191 3500 \nL 800 3500 \nL 1894 763 \nL 2988 3500 \nL 3597 3500 \nL 2059 -325 \nz\n\" id=\"DejaVuSans-79\" transform=\"scale(0.015625)\"/>\n        <path d=\"M 684 794 \nL 1344 794 \nL 1344 0 \nL 684 0 \nL 684 794 \nz\n\" id=\"DejaVuSans-2e\" transform=\"scale(0.015625)\"/>\n        <path d=\"M 3597 1894 \nL 3597 1613 \nL 953 1613 \nQ 991 1019 1311 708 \nQ 1631 397 2203 397 \nQ 2534 397 2845 478 \nQ 3156 559 3463 722 \nL 3463 178 \nQ 3153 47 2828 -22 \nQ 2503 -91 2169 -91 \nQ 1331 -91 842 396 \nQ 353 884 353 1716 \nQ 353 2575 817 3079 \nQ 1281 3584 2069 3584 \nQ 2775 3584 3186 3129 \nQ 3597 2675 3597 1894 \nz\nM 3022 2063 \nQ 3016 2534 2758 2815 \nQ 2500 3097 2075 3097 \nQ 1594 3097 1305 2825 \nQ 1016 2553 972 2059 \nL 3022 2063 \nz\n\" id=\"DejaVuSans-65\" transform=\"scale(0.015625)\"/>\n        <path d=\"M 603 3500 \nL 1178 3500 \nL 1178 0 \nL 603 0 \nL 603 3500 \nz\nM 603 4863 \nL 1178 4863 \nL 1178 4134 \nL 603 4134 \nL 603 4863 \nz\n\" id=\"DejaVuSans-69\" transform=\"scale(0.015625)\"/>\n        <path d=\"M 2834 3397 \nL 2834 2853 \nQ 2591 2978 2328 3040 \nQ 2066 3103 1784 3103 \nQ 1356 3103 1142 2972 \nQ 928 2841 928 2578 \nQ 928 2378 1081 2264 \nQ 1234 2150 1697 2047 \nL 1894 2003 \nQ 2506 1872 2764 1633 \nQ 3022 1394 3022 966 \nQ 3022 478 2636 193 \nQ 2250 -91 1575 -91 \nQ 1294 -91 989 -36 \nQ 684 19 347 128 \nL 347 722 \nQ 666 556 975 473 \nQ 1284 391 1588 391 \nQ 1994 391 2212 530 \nQ 2431 669 2431 922 \nQ 2431 1156 2273 1281 \nQ 2116 1406 1581 1522 \nL 1381 1569 \nQ 847 1681 609 1914 \nQ 372 2147 372 2553 \nQ 372 3047 722 3315 \nQ 1072 3584 1716 3584 \nQ 2034 3584 2315 3537 \nQ 2597 3491 2834 3397 \nz\n\" id=\"DejaVuSans-73\" transform=\"scale(0.015625)\"/>\n       </defs>\n       <use xlink:href=\"#DejaVuSans-6e\"/>\n       <use x=\"63.378906\" xlink:href=\"#DejaVuSans-75\"/>\n       <use x=\"126.757812\" xlink:href=\"#DejaVuSans-6d\"/>\n       <use x=\"224.169922\" xlink:href=\"#DejaVuSans-70\"/>\n       <use x=\"287.646484\" xlink:href=\"#DejaVuSans-79\"/>\n       <use x=\"332.576172\" xlink:href=\"#DejaVuSans-2e\"/>\n       <use x=\"364.363281\" xlink:href=\"#DejaVuSans-65\"/>\n       <use x=\"425.886719\" xlink:href=\"#DejaVuSans-69\"/>\n       <use x=\"453.669922\" xlink:href=\"#DejaVuSans-6e\"/>\n       <use x=\"517.048828\" xlink:href=\"#DejaVuSans-73\"/>\n       <use x=\"569.148438\" xlink:href=\"#DejaVuSans-75\"/>\n       <use x=\"632.527344\" xlink:href=\"#DejaVuSans-6d\"/>\n      </g>\n     </g>\n    </g>\n    <g id=\"xtick_2\">\n     <g id=\"line2d_2\">\n      <g>\n       <use style=\"stroke:#000000;stroke-width:0.8;\" x=\"166.762423\" xlink:href=\"#mc1adac3251\" y=\"239.758125\"/>\n      </g>\n     </g>\n     <g id=\"text_2\">\n      <!-- cupy.einsum -->\n      <g transform=\"translate(135.556173 254.356563)scale(0.1 -0.1)\">\n       <defs>\n        <path d=\"M 3122 3366 \nL 3122 2828 \nQ 2878 2963 2633 3030 \nQ 2388 3097 2138 3097 \nQ 1578 3097 1268 2742 \nQ 959 2388 959 1747 \nQ 959 1106 1268 751 \nQ 1578 397 2138 397 \nQ 2388 397 2633 464 \nQ 2878 531 3122 666 \nL 3122 134 \nQ 2881 22 2623 -34 \nQ 2366 -91 2075 -91 \nQ 1284 -91 818 406 \nQ 353 903 353 1747 \nQ 353 2603 823 3093 \nQ 1294 3584 2113 3584 \nQ 2378 3584 2631 3529 \nQ 2884 3475 3122 3366 \nz\n\" id=\"DejaVuSans-63\" transform=\"scale(0.015625)\"/>\n       </defs>\n       <use xlink:href=\"#DejaVuSans-63\"/>\n       <use x=\"54.980469\" xlink:href=\"#DejaVuSans-75\"/>\n       <use x=\"118.359375\" xlink:href=\"#DejaVuSans-70\"/>\n       <use x=\"181.835938\" xlink:href=\"#DejaVuSans-79\"/>\n       <use x=\"226.765625\" xlink:href=\"#DejaVuSans-2e\"/>\n       <use x=\"258.552734\" xlink:href=\"#DejaVuSans-65\"/>\n       <use x=\"320.076172\" xlink:href=\"#DejaVuSans-69\"/>\n       <use x=\"347.859375\" xlink:href=\"#DejaVuSans-6e\"/>\n       <use x=\"411.238281\" xlink:href=\"#DejaVuSans-73\"/>\n       <use x=\"463.337891\" xlink:href=\"#DejaVuSans-75\"/>\n       <use x=\"526.716797\" xlink:href=\"#DejaVuSans-6d\"/>\n      </g>\n     </g>\n    </g>\n    <g id=\"xtick_3\">\n     <g id=\"line2d_3\">\n      <g>\n       <use style=\"stroke:#000000;stroke-width:0.8;\" x=\"258.993827\" xlink:href=\"#mc1adac3251\" y=\"239.758125\"/>\n      </g>\n     </g>\n     <g id=\"text_3\">\n      <!-- cutensor -->\n      <g transform=\"translate(237.150859 254.356563)scale(0.1 -0.1)\">\n       <defs>\n        <path d=\"M 1172 4494 \nL 1172 3500 \nL 2356 3500 \nL 2356 3053 \nL 1172 3053 \nL 1172 1153 \nQ 1172 725 1289 603 \nQ 1406 481 1766 481 \nL 2356 481 \nL 2356 0 \nL 1766 0 \nQ 1100 0 847 248 \nQ 594 497 594 1153 \nL 594 3053 \nL 172 3053 \nL 172 3500 \nL 594 3500 \nL 594 4494 \nL 1172 4494 \nz\n\" id=\"DejaVuSans-74\" transform=\"scale(0.015625)\"/>\n        <path d=\"M 1959 3097 \nQ 1497 3097 1228 2736 \nQ 959 2375 959 1747 \nQ 959 1119 1226 758 \nQ 1494 397 1959 397 \nQ 2419 397 2687 759 \nQ 2956 1122 2956 1747 \nQ 2956 2369 2687 2733 \nQ 2419 3097 1959 3097 \nz\nM 1959 3584 \nQ 2709 3584 3137 3096 \nQ 3566 2609 3566 1747 \nQ 3566 888 3137 398 \nQ 2709 -91 1959 -91 \nQ 1206 -91 779 398 \nQ 353 888 353 1747 \nQ 353 2609 779 3096 \nQ 1206 3584 1959 3584 \nz\n\" id=\"DejaVuSans-6f\" transform=\"scale(0.015625)\"/>\n        <path d=\"M 2631 2963 \nQ 2534 3019 2420 3045 \nQ 2306 3072 2169 3072 \nQ 1681 3072 1420 2755 \nQ 1159 2438 1159 1844 \nL 1159 0 \nL 581 0 \nL 581 3500 \nL 1159 3500 \nL 1159 2956 \nQ 1341 3275 1631 3429 \nQ 1922 3584 2338 3584 \nQ 2397 3584 2469 3576 \nQ 2541 3569 2628 3553 \nL 2631 2963 \nz\n\" id=\"DejaVuSans-72\" transform=\"scale(0.015625)\"/>\n       </defs>\n       <use xlink:href=\"#DejaVuSans-63\"/>\n       <use x=\"54.980469\" xlink:href=\"#DejaVuSans-75\"/>\n       <use x=\"118.359375\" xlink:href=\"#DejaVuSans-74\"/>\n       <use x=\"157.568359\" xlink:href=\"#DejaVuSans-65\"/>\n       <use x=\"219.091797\" xlink:href=\"#DejaVuSans-6e\"/>\n       <use x=\"282.470703\" xlink:href=\"#DejaVuSans-73\"/>\n       <use x=\"334.570312\" xlink:href=\"#DejaVuSans-6f\"/>\n       <use x=\"395.751953\" xlink:href=\"#DejaVuSans-72\"/>\n      </g>\n     </g>\n    </g>\n    <g id=\"xtick_4\">\n     <g id=\"line2d_4\">\n      <g>\n       <use style=\"stroke:#000000;stroke-width:0.8;\" x=\"351.225232\" xlink:href=\"#mc1adac3251\" y=\"239.758125\"/>\n      </g>\n     </g>\n     <g id=\"text_4\">\n      <!-- cutensor-optimized -->\n      <g transform=\"translate(303.08617 254.356563)scale(0.1 -0.1)\">\n       <defs>\n        <path d=\"M 313 2009 \nL 1997 2009 \nL 1997 1497 \nL 313 1497 \nL 313 2009 \nz\n\" id=\"DejaVuSans-2d\" transform=\"scale(0.015625)\"/>\n        <path d=\"M 353 3500 \nL 3084 3500 \nL 3084 2975 \nL 922 459 \nL 3084 459 \nL 3084 0 \nL 275 0 \nL 275 525 \nL 2438 3041 \nL 353 3041 \nL 353 3500 \nz\n\" id=\"DejaVuSans-7a\" transform=\"scale(0.015625)\"/>\n        <path d=\"M 2906 2969 \nL 2906 4863 \nL 3481 4863 \nL 3481 0 \nL 2906 0 \nL 2906 525 \nQ 2725 213 2448 61 \nQ 2172 -91 1784 -91 \nQ 1150 -91 751 415 \nQ 353 922 353 1747 \nQ 353 2572 751 3078 \nQ 1150 3584 1784 3584 \nQ 2172 3584 2448 3432 \nQ 2725 3281 2906 2969 \nz\nM 947 1747 \nQ 947 1113 1208 752 \nQ 1469 391 1925 391 \nQ 2381 391 2643 752 \nQ 2906 1113 2906 1747 \nQ 2906 2381 2643 2742 \nQ 2381 3103 1925 3103 \nQ 1469 3103 1208 2742 \nQ 947 2381 947 1747 \nz\n\" id=\"DejaVuSans-64\" transform=\"scale(0.015625)\"/>\n       </defs>\n       <use xlink:href=\"#DejaVuSans-63\"/>\n       <use x=\"54.980469\" xlink:href=\"#DejaVuSans-75\"/>\n       <use x=\"118.359375\" xlink:href=\"#DejaVuSans-74\"/>\n       <use x=\"157.568359\" xlink:href=\"#DejaVuSans-65\"/>\n       <use x=\"219.091797\" xlink:href=\"#DejaVuSans-6e\"/>\n       <use x=\"282.470703\" xlink:href=\"#DejaVuSans-73\"/>\n       <use x=\"334.570312\" xlink:href=\"#DejaVuSans-6f\"/>\n       <use x=\"395.751953\" xlink:href=\"#DejaVuSans-72\"/>\n       <use x=\"430.490234\" xlink:href=\"#DejaVuSans-2d\"/>\n       <use x=\"468.449219\" xlink:href=\"#DejaVuSans-6f\"/>\n       <use x=\"529.630859\" xlink:href=\"#DejaVuSans-70\"/>\n       <use x=\"593.107422\" xlink:href=\"#DejaVuSans-74\"/>\n       <use x=\"632.316406\" xlink:href=\"#DejaVuSans-69\"/>\n       <use x=\"660.099609\" xlink:href=\"#DejaVuSans-6d\"/>\n       <use x=\"757.511719\" xlink:href=\"#DejaVuSans-69\"/>\n       <use x=\"785.294922\" xlink:href=\"#DejaVuSans-7a\"/>\n       <use x=\"837.785156\" xlink:href=\"#DejaVuSans-65\"/>\n       <use x=\"899.308594\" xlink:href=\"#DejaVuSans-64\"/>\n      </g>\n     </g>\n    </g>\n   </g>\n   <g id=\"matplotlib.axis_2\">\n    <g id=\"ytick_1\">\n     <g id=\"line2d_5\">\n      <defs>\n       <path d=\"M 0 0 \nL -3.5 0 \n\" id=\"m53c03d61f2\" style=\"stroke:#000000;stroke-width:0.8;\"/>\n      </defs>\n      <g>\n       <use style=\"stroke:#000000;stroke-width:0.8;\" x=\"45.478125\" xlink:href=\"#m53c03d61f2\" y=\"228.489215\"/>\n      </g>\n     </g>\n     <g id=\"text_5\">\n      <!-- $\\mathdefault{10^{1}}$ -->\n      <g transform=\"translate(20.878125 232.288434)scale(0.1 -0.1)\">\n       <defs>\n        <path d=\"M 794 531 \nL 1825 531 \nL 1825 4091 \nL 703 3866 \nL 703 4441 \nL 1819 4666 \nL 2450 4666 \nL 2450 531 \nL 3481 531 \nL 3481 0 \nL 794 0 \nL 794 531 \nz\n\" id=\"DejaVuSans-31\" transform=\"scale(0.015625)\"/>\n        <path d=\"M 2034 4250 \nQ 1547 4250 1301 3770 \nQ 1056 3291 1056 2328 \nQ 1056 1369 1301 889 \nQ 1547 409 2034 409 \nQ 2525 409 2770 889 \nQ 3016 1369 3016 2328 \nQ 3016 3291 2770 3770 \nQ 2525 4250 2034 4250 \nz\nM 2034 4750 \nQ 2819 4750 3233 4129 \nQ 3647 3509 3647 2328 \nQ 3647 1150 3233 529 \nQ 2819 -91 2034 -91 \nQ 1250 -91 836 529 \nQ 422 1150 422 2328 \nQ 422 3509 836 4129 \nQ 1250 4750 2034 4750 \nz\n\" id=\"DejaVuSans-30\" transform=\"scale(0.015625)\"/>\n       </defs>\n       <use transform=\"translate(0 0.684375)\" xlink:href=\"#DejaVuSans-31\"/>\n       <use transform=\"translate(63.623047 0.684375)\" xlink:href=\"#DejaVuSans-30\"/>\n       <use transform=\"translate(128.203125 38.965625)scale(0.7)\" xlink:href=\"#DejaVuSans-31\"/>\n      </g>\n     </g>\n    </g>\n    <g id=\"ytick_2\">\n     <g id=\"line2d_6\">\n      <g>\n       <use style=\"stroke:#000000;stroke-width:0.8;\" x=\"45.478125\" xlink:href=\"#m53c03d61f2\" y=\"166.080461\"/>\n      </g>\n     </g>\n     <g id=\"text_6\">\n      <!-- $\\mathdefault{10^{2}}$ -->\n      <g transform=\"translate(20.878125 169.87968)scale(0.1 -0.1)\">\n       <defs>\n        <path d=\"M 1228 531 \nL 3431 531 \nL 3431 0 \nL 469 0 \nL 469 531 \nQ 828 903 1448 1529 \nQ 2069 2156 2228 2338 \nQ 2531 2678 2651 2914 \nQ 2772 3150 2772 3378 \nQ 2772 3750 2511 3984 \nQ 2250 4219 1831 4219 \nQ 1534 4219 1204 4116 \nQ 875 4013 500 3803 \nL 500 4441 \nQ 881 4594 1212 4672 \nQ 1544 4750 1819 4750 \nQ 2544 4750 2975 4387 \nQ 3406 4025 3406 3419 \nQ 3406 3131 3298 2873 \nQ 3191 2616 2906 2266 \nQ 2828 2175 2409 1742 \nQ 1991 1309 1228 531 \nz\n\" id=\"DejaVuSans-32\" transform=\"scale(0.015625)\"/>\n       </defs>\n       <use transform=\"translate(0 0.765625)\" xlink:href=\"#DejaVuSans-31\"/>\n       <use transform=\"translate(63.623047 0.765625)\" xlink:href=\"#DejaVuSans-30\"/>\n       <use transform=\"translate(128.203125 39.046875)scale(0.7)\" xlink:href=\"#DejaVuSans-32\"/>\n      </g>\n     </g>\n    </g>\n    <g id=\"ytick_3\">\n     <g id=\"line2d_7\">\n      <g>\n       <use style=\"stroke:#000000;stroke-width:0.8;\" x=\"45.478125\" xlink:href=\"#m53c03d61f2\" y=\"103.671706\"/>\n      </g>\n     </g>\n     <g id=\"text_7\">\n      <!-- $\\mathdefault{10^{3}}$ -->\n      <g transform=\"translate(20.878125 107.470925)scale(0.1 -0.1)\">\n       <defs>\n        <path d=\"M 2597 2516 \nQ 3050 2419 3304 2112 \nQ 3559 1806 3559 1356 \nQ 3559 666 3084 287 \nQ 2609 -91 1734 -91 \nQ 1441 -91 1130 -33 \nQ 819 25 488 141 \nL 488 750 \nQ 750 597 1062 519 \nQ 1375 441 1716 441 \nQ 2309 441 2620 675 \nQ 2931 909 2931 1356 \nQ 2931 1769 2642 2001 \nQ 2353 2234 1838 2234 \nL 1294 2234 \nL 1294 2753 \nL 1863 2753 \nQ 2328 2753 2575 2939 \nQ 2822 3125 2822 3475 \nQ 2822 3834 2567 4026 \nQ 2313 4219 1838 4219 \nQ 1578 4219 1281 4162 \nQ 984 4106 628 3988 \nL 628 4550 \nQ 988 4650 1302 4700 \nQ 1616 4750 1894 4750 \nQ 2613 4750 3031 4423 \nQ 3450 4097 3450 3541 \nQ 3450 3153 3228 2886 \nQ 3006 2619 2597 2516 \nz\n\" id=\"DejaVuSans-33\" transform=\"scale(0.015625)\"/>\n       </defs>\n       <use transform=\"translate(0 0.765625)\" xlink:href=\"#DejaVuSans-31\"/>\n       <use transform=\"translate(63.623047 0.765625)\" xlink:href=\"#DejaVuSans-30\"/>\n       <use transform=\"translate(128.203125 39.046875)scale(0.7)\" xlink:href=\"#DejaVuSans-33\"/>\n      </g>\n     </g>\n    </g>\n    <g id=\"ytick_4\">\n     <g id=\"line2d_8\">\n      <g>\n       <use style=\"stroke:#000000;stroke-width:0.8;\" x=\"45.478125\" xlink:href=\"#m53c03d61f2\" y=\"41.262952\"/>\n      </g>\n     </g>\n     <g id=\"text_8\">\n      <!-- $\\mathdefault{10^{4}}$ -->\n      <g transform=\"translate(20.878125 45.062171)scale(0.1 -0.1)\">\n       <defs>\n        <path d=\"M 2419 4116 \nL 825 1625 \nL 2419 1625 \nL 2419 4116 \nz\nM 2253 4666 \nL 3047 4666 \nL 3047 1625 \nL 3713 1625 \nL 3713 1100 \nL 3047 1100 \nL 3047 0 \nL 2419 0 \nL 2419 1100 \nL 313 1100 \nL 313 1709 \nL 2253 4666 \nz\n\" id=\"DejaVuSans-34\" transform=\"scale(0.015625)\"/>\n       </defs>\n       <use transform=\"translate(0 0.684375)\" xlink:href=\"#DejaVuSans-31\"/>\n       <use transform=\"translate(63.623047 0.684375)\" xlink:href=\"#DejaVuSans-30\"/>\n       <use transform=\"translate(128.203125 38.965625)scale(0.7)\" xlink:href=\"#DejaVuSans-34\"/>\n      </g>\n     </g>\n    </g>\n    <g id=\"ytick_5\">\n     <g id=\"line2d_9\">\n      <defs>\n       <path d=\"M 0 0 \nL -2 0 \n\" id=\"m30782bae4e\" style=\"stroke:#000000;stroke-width:0.6;\"/>\n      </defs>\n      <g>\n       <use style=\"stroke:#000000;stroke-width:0.6;\" x=\"45.478125\" xlink:href=\"#m30782bae4e\" y=\"238.156454\"/>\n      </g>\n     </g>\n    </g>\n    <g id=\"ytick_6\">\n     <g id=\"line2d_10\">\n      <g>\n       <use style=\"stroke:#000000;stroke-width:0.6;\" x=\"45.478125\" xlink:href=\"#m30782bae4e\" y=\"234.537249\"/>\n      </g>\n     </g>\n    </g>\n    <g id=\"ytick_7\">\n     <g id=\"line2d_11\">\n      <g>\n       <use style=\"stroke:#000000;stroke-width:0.6;\" x=\"45.478125\" xlink:href=\"#m30782bae4e\" y=\"231.344883\"/>\n      </g>\n     </g>\n    </g>\n    <g id=\"ytick_8\">\n     <g id=\"line2d_12\">\n      <g>\n       <use style=\"stroke:#000000;stroke-width:0.6;\" x=\"45.478125\" xlink:href=\"#m30782bae4e\" y=\"209.702308\"/>\n      </g>\n     </g>\n    </g>\n    <g id=\"ytick_9\">\n     <g id=\"line2d_13\">\n      <g>\n       <use style=\"stroke:#000000;stroke-width:0.6;\" x=\"45.478125\" xlink:href=\"#m30782bae4e\" y=\"198.712672\"/>\n      </g>\n     </g>\n    </g>\n    <g id=\"ytick_10\">\n     <g id=\"line2d_14\">\n      <g>\n       <use style=\"stroke:#000000;stroke-width:0.6;\" x=\"45.478125\" xlink:href=\"#m30782bae4e\" y=\"190.915401\"/>\n      </g>\n     </g>\n    </g>\n    <g id=\"ytick_11\">\n     <g id=\"line2d_15\">\n      <g>\n       <use style=\"stroke:#000000;stroke-width:0.6;\" x=\"45.478125\" xlink:href=\"#m30782bae4e\" y=\"184.867368\"/>\n      </g>\n     </g>\n    </g>\n    <g id=\"ytick_12\">\n     <g id=\"line2d_16\">\n      <g>\n       <use style=\"stroke:#000000;stroke-width:0.6;\" x=\"45.478125\" xlink:href=\"#m30782bae4e\" y=\"179.925765\"/>\n      </g>\n     </g>\n    </g>\n    <g id=\"ytick_13\">\n     <g id=\"line2d_17\">\n      <g>\n       <use style=\"stroke:#000000;stroke-width:0.6;\" x=\"45.478125\" xlink:href=\"#m30782bae4e\" y=\"175.747699\"/>\n      </g>\n     </g>\n    </g>\n    <g id=\"ytick_14\">\n     <g id=\"line2d_18\">\n      <g>\n       <use style=\"stroke:#000000;stroke-width:0.6;\" x=\"45.478125\" xlink:href=\"#m30782bae4e\" y=\"172.128494\"/>\n      </g>\n     </g>\n    </g>\n    <g id=\"ytick_15\">\n     <g id=\"line2d_19\">\n      <g>\n       <use style=\"stroke:#000000;stroke-width:0.6;\" x=\"45.478125\" xlink:href=\"#m30782bae4e\" y=\"168.936129\"/>\n      </g>\n     </g>\n    </g>\n    <g id=\"ytick_16\">\n     <g id=\"line2d_20\">\n      <g>\n       <use style=\"stroke:#000000;stroke-width:0.6;\" x=\"45.478125\" xlink:href=\"#m30782bae4e\" y=\"147.293554\"/>\n      </g>\n     </g>\n    </g>\n    <g id=\"ytick_17\">\n     <g id=\"line2d_21\">\n      <g>\n       <use style=\"stroke:#000000;stroke-width:0.6;\" x=\"45.478125\" xlink:href=\"#m30782bae4e\" y=\"136.303918\"/>\n      </g>\n     </g>\n    </g>\n    <g id=\"ytick_18\">\n     <g id=\"line2d_22\">\n      <g>\n       <use style=\"stroke:#000000;stroke-width:0.6;\" x=\"45.478125\" xlink:href=\"#m30782bae4e\" y=\"128.506647\"/>\n      </g>\n     </g>\n    </g>\n    <g id=\"ytick_19\">\n     <g id=\"line2d_23\">\n      <g>\n       <use style=\"stroke:#000000;stroke-width:0.6;\" x=\"45.478125\" xlink:href=\"#m30782bae4e\" y=\"122.458614\"/>\n      </g>\n     </g>\n    </g>\n    <g id=\"ytick_20\">\n     <g id=\"line2d_24\">\n      <g>\n       <use style=\"stroke:#000000;stroke-width:0.6;\" x=\"45.478125\" xlink:href=\"#m30782bae4e\" y=\"117.517011\"/>\n      </g>\n     </g>\n    </g>\n    <g id=\"ytick_21\">\n     <g id=\"line2d_25\">\n      <g>\n       <use style=\"stroke:#000000;stroke-width:0.6;\" x=\"45.478125\" xlink:href=\"#m30782bae4e\" y=\"113.338945\"/>\n      </g>\n     </g>\n    </g>\n    <g id=\"ytick_22\">\n     <g id=\"line2d_26\">\n      <g>\n       <use style=\"stroke:#000000;stroke-width:0.6;\" x=\"45.478125\" xlink:href=\"#m30782bae4e\" y=\"109.71974\"/>\n      </g>\n     </g>\n    </g>\n    <g id=\"ytick_23\">\n     <g id=\"line2d_27\">\n      <g>\n       <use style=\"stroke:#000000;stroke-width:0.6;\" x=\"45.478125\" xlink:href=\"#m30782bae4e\" y=\"106.527374\"/>\n      </g>\n     </g>\n    </g>\n    <g id=\"ytick_24\">\n     <g id=\"line2d_28\">\n      <g>\n       <use style=\"stroke:#000000;stroke-width:0.6;\" x=\"45.478125\" xlink:href=\"#m30782bae4e\" y=\"84.884799\"/>\n      </g>\n     </g>\n    </g>\n    <g id=\"ytick_25\">\n     <g id=\"line2d_29\">\n      <g>\n       <use style=\"stroke:#000000;stroke-width:0.6;\" x=\"45.478125\" xlink:href=\"#m30782bae4e\" y=\"73.895163\"/>\n      </g>\n     </g>\n    </g>\n    <g id=\"ytick_26\">\n     <g id=\"line2d_30\">\n      <g>\n       <use style=\"stroke:#000000;stroke-width:0.6;\" x=\"45.478125\" xlink:href=\"#m30782bae4e\" y=\"66.097892\"/>\n      </g>\n     </g>\n    </g>\n    <g id=\"ytick_27\">\n     <g id=\"line2d_31\">\n      <g>\n       <use style=\"stroke:#000000;stroke-width:0.6;\" x=\"45.478125\" xlink:href=\"#m30782bae4e\" y=\"60.049859\"/>\n      </g>\n     </g>\n    </g>\n    <g id=\"ytick_28\">\n     <g id=\"line2d_32\">\n      <g>\n       <use style=\"stroke:#000000;stroke-width:0.6;\" x=\"45.478125\" xlink:href=\"#m30782bae4e\" y=\"55.108256\"/>\n      </g>\n     </g>\n    </g>\n    <g id=\"ytick_29\">\n     <g id=\"line2d_33\">\n      <g>\n       <use style=\"stroke:#000000;stroke-width:0.6;\" x=\"45.478125\" xlink:href=\"#m30782bae4e\" y=\"50.93019\"/>\n      </g>\n     </g>\n    </g>\n    <g id=\"ytick_30\">\n     <g id=\"line2d_34\">\n      <g>\n       <use style=\"stroke:#000000;stroke-width:0.6;\" x=\"45.478125\" xlink:href=\"#m30782bae4e\" y=\"47.310985\"/>\n      </g>\n     </g>\n    </g>\n    <g id=\"ytick_31\">\n     <g id=\"line2d_35\">\n      <g>\n       <use style=\"stroke:#000000;stroke-width:0.6;\" x=\"45.478125\" xlink:href=\"#m30782bae4e\" y=\"44.11862\"/>\n      </g>\n     </g>\n    </g>\n    <g id=\"ytick_32\">\n     <g id=\"line2d_36\">\n      <g>\n       <use style=\"stroke:#000000;stroke-width:0.6;\" x=\"45.478125\" xlink:href=\"#m30782bae4e\" y=\"22.476045\"/>\n      </g>\n     </g>\n    </g>\n    <g id=\"text_9\">\n     <!-- time/ms -->\n     <g transform=\"translate(14.798438 151.493594)rotate(-90)scale(0.1 -0.1)\">\n      <defs>\n       <path d=\"M 1625 4666 \nL 2156 4666 \nL 531 -594 \nL 0 -594 \nL 1625 4666 \nz\n\" id=\"DejaVuSans-2f\" transform=\"scale(0.015625)\"/>\n      </defs>\n      <use xlink:href=\"#DejaVuSans-74\"/>\n      <use x=\"39.208984\" xlink:href=\"#DejaVuSans-69\"/>\n      <use x=\"66.992188\" xlink:href=\"#DejaVuSans-6d\"/>\n      <use x=\"164.404297\" xlink:href=\"#DejaVuSans-65\"/>\n      <use x=\"225.927734\" xlink:href=\"#DejaVuSans-2f\"/>\n      <use x=\"259.619141\" xlink:href=\"#DejaVuSans-6d\"/>\n      <use x=\"357.03125\" xlink:href=\"#DejaVuSans-73\"/>\n     </g>\n    </g>\n   </g>\n   <g id=\"patch_7\">\n    <path d=\"M 45.478125 239.758125 \nL 45.478125 22.318125 \n\" style=\"fill:none;stroke:#000000;stroke-linecap:square;stroke-linejoin:miter;stroke-width:0.8;\"/>\n   </g>\n   <g id=\"patch_8\">\n    <path d=\"M 380.278125 239.758125 \nL 380.278125 22.318125 \n\" style=\"fill:none;stroke:#000000;stroke-linecap:square;stroke-linejoin:miter;stroke-width:0.8;\"/>\n   </g>\n   <g id=\"patch_9\">\n    <path d=\"M 45.478125 239.758125 \nL 380.278125 239.758125 \n\" style=\"fill:none;stroke:#000000;stroke-linecap:square;stroke-linejoin:miter;stroke-width:0.8;\"/>\n   </g>\n   <g id=\"patch_10\">\n    <path d=\"M 45.478125 22.318125 \nL 380.278125 22.318125 \n\" style=\"fill:none;stroke:#000000;stroke-linecap:square;stroke-linejoin:miter;stroke-width:0.8;\"/>\n   </g>\n   <g id=\"text_10\">\n    <!-- Executing time and accelerate rate from different einsum methods. -->\n    <g transform=\"translate(9.8325 16.318125)scale(0.12 -0.12)\">\n     <defs>\n      <path d=\"M 628 4666 \nL 3578 4666 \nL 3578 4134 \nL 1259 4134 \nL 1259 2753 \nL 3481 2753 \nL 3481 2222 \nL 1259 2222 \nL 1259 531 \nL 3634 531 \nL 3634 0 \nL 628 0 \nL 628 4666 \nz\n\" id=\"DejaVuSans-45\" transform=\"scale(0.015625)\"/>\n      <path d=\"M 3513 3500 \nL 2247 1797 \nL 3578 0 \nL 2900 0 \nL 1881 1375 \nL 863 0 \nL 184 0 \nL 1544 1831 \nL 300 3500 \nL 978 3500 \nL 1906 2253 \nL 2834 3500 \nL 3513 3500 \nz\n\" id=\"DejaVuSans-78\" transform=\"scale(0.015625)\"/>\n      <path d=\"M 2906 1791 \nQ 2906 2416 2648 2759 \nQ 2391 3103 1925 3103 \nQ 1463 3103 1205 2759 \nQ 947 2416 947 1791 \nQ 947 1169 1205 825 \nQ 1463 481 1925 481 \nQ 2391 481 2648 825 \nQ 2906 1169 2906 1791 \nz\nM 3481 434 \nQ 3481 -459 3084 -895 \nQ 2688 -1331 1869 -1331 \nQ 1566 -1331 1297 -1286 \nQ 1028 -1241 775 -1147 \nL 775 -588 \nQ 1028 -725 1275 -790 \nQ 1522 -856 1778 -856 \nQ 2344 -856 2625 -561 \nQ 2906 -266 2906 331 \nL 2906 616 \nQ 2728 306 2450 153 \nQ 2172 0 1784 0 \nQ 1141 0 747 490 \nQ 353 981 353 1791 \nQ 353 2603 747 3093 \nQ 1141 3584 1784 3584 \nQ 2172 3584 2450 3431 \nQ 2728 3278 2906 2969 \nL 2906 3500 \nL 3481 3500 \nL 3481 434 \nz\n\" id=\"DejaVuSans-67\" transform=\"scale(0.015625)\"/>\n      <path id=\"DejaVuSans-20\" transform=\"scale(0.015625)\"/>\n      <path d=\"M 2194 1759 \nQ 1497 1759 1228 1600 \nQ 959 1441 959 1056 \nQ 959 750 1161 570 \nQ 1363 391 1709 391 \nQ 2188 391 2477 730 \nQ 2766 1069 2766 1631 \nL 2766 1759 \nL 2194 1759 \nz\nM 3341 1997 \nL 3341 0 \nL 2766 0 \nL 2766 531 \nQ 2569 213 2275 61 \nQ 1981 -91 1556 -91 \nQ 1019 -91 701 211 \nQ 384 513 384 1019 \nQ 384 1609 779 1909 \nQ 1175 2209 1959 2209 \nL 2766 2209 \nL 2766 2266 \nQ 2766 2663 2505 2880 \nQ 2244 3097 1772 3097 \nQ 1472 3097 1187 3025 \nQ 903 2953 641 2809 \nL 641 3341 \nQ 956 3463 1253 3523 \nQ 1550 3584 1831 3584 \nQ 2591 3584 2966 3190 \nQ 3341 2797 3341 1997 \nz\n\" id=\"DejaVuSans-61\" transform=\"scale(0.015625)\"/>\n      <path d=\"M 603 4863 \nL 1178 4863 \nL 1178 0 \nL 603 0 \nL 603 4863 \nz\n\" id=\"DejaVuSans-6c\" transform=\"scale(0.015625)\"/>\n      <path d=\"M 2375 4863 \nL 2375 4384 \nL 1825 4384 \nQ 1516 4384 1395 4259 \nQ 1275 4134 1275 3809 \nL 1275 3500 \nL 2222 3500 \nL 2222 3053 \nL 1275 3053 \nL 1275 0 \nL 697 0 \nL 697 3053 \nL 147 3053 \nL 147 3500 \nL 697 3500 \nL 697 3744 \nQ 697 4328 969 4595 \nQ 1241 4863 1831 4863 \nL 2375 4863 \nz\n\" id=\"DejaVuSans-66\" transform=\"scale(0.015625)\"/>\n      <path d=\"M 3513 2113 \nL 3513 0 \nL 2938 0 \nL 2938 2094 \nQ 2938 2591 2744 2837 \nQ 2550 3084 2163 3084 \nQ 1697 3084 1428 2787 \nQ 1159 2491 1159 1978 \nL 1159 0 \nL 581 0 \nL 581 4863 \nL 1159 4863 \nL 1159 2956 \nQ 1366 3272 1645 3428 \nQ 1925 3584 2291 3584 \nQ 2894 3584 3203 3211 \nQ 3513 2838 3513 2113 \nz\n\" id=\"DejaVuSans-68\" transform=\"scale(0.015625)\"/>\n     </defs>\n     <use xlink:href=\"#DejaVuSans-45\"/>\n     <use x=\"63.183594\" xlink:href=\"#DejaVuSans-78\"/>\n     <use x=\"119.238281\" xlink:href=\"#DejaVuSans-65\"/>\n     <use x=\"180.761719\" xlink:href=\"#DejaVuSans-63\"/>\n     <use x=\"235.742188\" xlink:href=\"#DejaVuSans-75\"/>\n     <use x=\"299.121094\" xlink:href=\"#DejaVuSans-74\"/>\n     <use x=\"338.330078\" xlink:href=\"#DejaVuSans-69\"/>\n     <use x=\"366.113281\" xlink:href=\"#DejaVuSans-6e\"/>\n     <use x=\"429.492188\" xlink:href=\"#DejaVuSans-67\"/>\n     <use x=\"492.96875\" xlink:href=\"#DejaVuSans-20\"/>\n     <use x=\"524.755859\" xlink:href=\"#DejaVuSans-74\"/>\n     <use x=\"563.964844\" xlink:href=\"#DejaVuSans-69\"/>\n     <use x=\"591.748047\" xlink:href=\"#DejaVuSans-6d\"/>\n     <use x=\"689.160156\" xlink:href=\"#DejaVuSans-65\"/>\n     <use x=\"750.683594\" xlink:href=\"#DejaVuSans-20\"/>\n     <use x=\"782.470703\" xlink:href=\"#DejaVuSans-61\"/>\n     <use x=\"843.75\" xlink:href=\"#DejaVuSans-6e\"/>\n     <use x=\"907.128906\" xlink:href=\"#DejaVuSans-64\"/>\n     <use x=\"970.605469\" xlink:href=\"#DejaVuSans-20\"/>\n     <use x=\"1002.392578\" xlink:href=\"#DejaVuSans-61\"/>\n     <use x=\"1063.671875\" xlink:href=\"#DejaVuSans-63\"/>\n     <use x=\"1118.652344\" xlink:href=\"#DejaVuSans-63\"/>\n     <use x=\"1173.632812\" xlink:href=\"#DejaVuSans-65\"/>\n     <use x=\"1235.15625\" xlink:href=\"#DejaVuSans-6c\"/>\n     <use x=\"1262.939453\" xlink:href=\"#DejaVuSans-65\"/>\n     <use x=\"1324.462891\" xlink:href=\"#DejaVuSans-72\"/>\n     <use x=\"1365.576172\" xlink:href=\"#DejaVuSans-61\"/>\n     <use x=\"1426.855469\" xlink:href=\"#DejaVuSans-74\"/>\n     <use x=\"1466.064453\" xlink:href=\"#DejaVuSans-65\"/>\n     <use x=\"1527.587891\" xlink:href=\"#DejaVuSans-20\"/>\n     <use x=\"1559.375\" xlink:href=\"#DejaVuSans-72\"/>\n     <use x=\"1600.488281\" xlink:href=\"#DejaVuSans-61\"/>\n     <use x=\"1661.767578\" xlink:href=\"#DejaVuSans-74\"/>\n     <use x=\"1700.976562\" xlink:href=\"#DejaVuSans-65\"/>\n     <use x=\"1762.5\" xlink:href=\"#DejaVuSans-20\"/>\n     <use x=\"1794.287109\" xlink:href=\"#DejaVuSans-66\"/>\n     <use x=\"1829.492188\" xlink:href=\"#DejaVuSans-72\"/>\n     <use x=\"1868.355469\" xlink:href=\"#DejaVuSans-6f\"/>\n     <use x=\"1929.537109\" xlink:href=\"#DejaVuSans-6d\"/>\n     <use x=\"2026.949219\" xlink:href=\"#DejaVuSans-20\"/>\n     <use x=\"2058.736328\" xlink:href=\"#DejaVuSans-64\"/>\n     <use x=\"2122.212891\" xlink:href=\"#DejaVuSans-69\"/>\n     <use x=\"2149.996094\" xlink:href=\"#DejaVuSans-66\"/>\n     <use x=\"2185.201172\" xlink:href=\"#DejaVuSans-66\"/>\n     <use x=\"2220.40625\" xlink:href=\"#DejaVuSans-65\"/>\n     <use x=\"2281.929688\" xlink:href=\"#DejaVuSans-72\"/>\n     <use x=\"2320.792969\" xlink:href=\"#DejaVuSans-65\"/>\n     <use x=\"2382.316406\" xlink:href=\"#DejaVuSans-6e\"/>\n     <use x=\"2445.695312\" xlink:href=\"#DejaVuSans-74\"/>\n     <use x=\"2484.904297\" xlink:href=\"#DejaVuSans-20\"/>\n     <use x=\"2516.691406\" xlink:href=\"#DejaVuSans-65\"/>\n     <use x=\"2578.214844\" xlink:href=\"#DejaVuSans-69\"/>\n     <use x=\"2605.998047\" xlink:href=\"#DejaVuSans-6e\"/>\n     <use x=\"2669.376953\" xlink:href=\"#DejaVuSans-73\"/>\n     <use x=\"2721.476562\" xlink:href=\"#DejaVuSans-75\"/>\n     <use x=\"2784.855469\" xlink:href=\"#DejaVuSans-6d\"/>\n     <use x=\"2882.267578\" xlink:href=\"#DejaVuSans-20\"/>\n     <use x=\"2914.054688\" xlink:href=\"#DejaVuSans-6d\"/>\n     <use x=\"3011.466797\" xlink:href=\"#DejaVuSans-65\"/>\n     <use x=\"3072.990234\" xlink:href=\"#DejaVuSans-74\"/>\n     <use x=\"3112.199219\" xlink:href=\"#DejaVuSans-68\"/>\n     <use x=\"3175.578125\" xlink:href=\"#DejaVuSans-6f\"/>\n     <use x=\"3236.759766\" xlink:href=\"#DejaVuSans-64\"/>\n     <use x=\"3300.236328\" xlink:href=\"#DejaVuSans-73\"/>\n     <use x=\"3352.335938\" xlink:href=\"#DejaVuSans-2e\"/>\n    </g>\n   </g>\n  </g>\n  <g id=\"axes_2\">\n   <g id=\"matplotlib.axis_3\">\n    <g id=\"ytick_33\">\n     <g id=\"line2d_37\">\n      <defs>\n       <path d=\"M 0 0 \nL 3.5 0 \n\" id=\"m020968e1e7\" style=\"stroke:#000000;stroke-width:0.8;\"/>\n      </defs>\n      <g>\n       <use style=\"stroke:#000000;stroke-width:0.8;\" x=\"380.278125\" xlink:href=\"#m020968e1e7\" y=\"239.758125\"/>\n      </g>\n     </g>\n     <g id=\"text_11\">\n      <!-- $\\mathdefault{10^{2}}$ -->\n      <g transform=\"translate(387.278125 243.557344)scale(0.1 -0.1)\">\n       <use transform=\"translate(0 0.765625)\" xlink:href=\"#DejaVuSans-31\"/>\n       <use transform=\"translate(63.623047 0.765625)\" xlink:href=\"#DejaVuSans-30\"/>\n       <use transform=\"translate(128.203125 39.046875)scale(0.7)\" xlink:href=\"#DejaVuSans-32\"/>\n      </g>\n     </g>\n    </g>\n    <g id=\"ytick_34\">\n     <g id=\"line2d_38\">\n      <g>\n       <use style=\"stroke:#000000;stroke-width:0.8;\" x=\"380.278125\" xlink:href=\"#m020968e1e7\" y=\"92.552877\"/>\n      </g>\n     </g>\n     <g id=\"text_12\">\n      <!-- $\\mathdefault{10^{3}}$ -->\n      <g transform=\"translate(387.278125 96.352096)scale(0.1 -0.1)\">\n       <use transform=\"translate(0 0.765625)\" xlink:href=\"#DejaVuSans-31\"/>\n       <use transform=\"translate(63.623047 0.765625)\" xlink:href=\"#DejaVuSans-30\"/>\n       <use transform=\"translate(128.203125 39.046875)scale(0.7)\" xlink:href=\"#DejaVuSans-33\"/>\n      </g>\n     </g>\n    </g>\n    <g id=\"ytick_35\">\n     <g id=\"line2d_39\">\n      <defs>\n       <path d=\"M 0 0 \nL 2 0 \n\" id=\"m51fe36f8cf\" style=\"stroke:#000000;stroke-width:0.6;\"/>\n      </defs>\n      <g>\n       <use style=\"stroke:#000000;stroke-width:0.6;\" x=\"380.278125\" xlink:href=\"#m51fe36f8cf\" y=\"195.44493\"/>\n      </g>\n     </g>\n    </g>\n    <g id=\"ytick_36\">\n     <g id=\"line2d_40\">\n      <g>\n       <use style=\"stroke:#000000;stroke-width:0.6;\" x=\"380.278125\" xlink:href=\"#m51fe36f8cf\" y=\"169.523373\"/>\n      </g>\n     </g>\n    </g>\n    <g id=\"ytick_37\">\n     <g id=\"line2d_41\">\n      <g>\n       <use style=\"stroke:#000000;stroke-width:0.6;\" x=\"380.278125\" xlink:href=\"#m51fe36f8cf\" y=\"151.131735\"/>\n      </g>\n     </g>\n    </g>\n    <g id=\"ytick_38\">\n     <g id=\"line2d_42\">\n      <g>\n       <use style=\"stroke:#000000;stroke-width:0.6;\" x=\"380.278125\" xlink:href=\"#m51fe36f8cf\" y=\"136.866072\"/>\n      </g>\n     </g>\n    </g>\n    <g id=\"ytick_39\">\n     <g id=\"line2d_43\">\n      <g>\n       <use style=\"stroke:#000000;stroke-width:0.6;\" x=\"380.278125\" xlink:href=\"#m51fe36f8cf\" y=\"125.210178\"/>\n      </g>\n     </g>\n    </g>\n    <g id=\"ytick_40\">\n     <g id=\"line2d_44\">\n      <g>\n       <use style=\"stroke:#000000;stroke-width:0.6;\" x=\"380.278125\" xlink:href=\"#m51fe36f8cf\" y=\"115.355259\"/>\n      </g>\n     </g>\n    </g>\n    <g id=\"ytick_41\">\n     <g id=\"line2d_45\">\n      <g>\n       <use style=\"stroke:#000000;stroke-width:0.6;\" x=\"380.278125\" xlink:href=\"#m51fe36f8cf\" y=\"106.81854\"/>\n      </g>\n     </g>\n    </g>\n    <g id=\"ytick_42\">\n     <g id=\"line2d_46\">\n      <g>\n       <use style=\"stroke:#000000;stroke-width:0.6;\" x=\"380.278125\" xlink:href=\"#m51fe36f8cf\" y=\"99.28862\"/>\n      </g>\n     </g>\n    </g>\n    <g id=\"ytick_43\">\n     <g id=\"line2d_47\">\n      <g>\n       <use style=\"stroke:#000000;stroke-width:0.6;\" x=\"380.278125\" xlink:href=\"#m51fe36f8cf\" y=\"48.239682\"/>\n      </g>\n     </g>\n    </g>\n    <g id=\"ytick_44\">\n     <g id=\"line2d_48\">\n      <g>\n       <use style=\"stroke:#000000;stroke-width:0.6;\" x=\"380.278125\" xlink:href=\"#m51fe36f8cf\" y=\"22.318125\"/>\n      </g>\n     </g>\n    </g>\n    <g id=\"text_13\">\n     <!-- Accelerate -->\n     <g transform=\"translate(416.476563 157.567813)rotate(-90)scale(0.1 -0.1)\">\n      <defs>\n       <path d=\"M 2188 4044 \nL 1331 1722 \nL 3047 1722 \nL 2188 4044 \nz\nM 1831 4666 \nL 2547 4666 \nL 4325 0 \nL 3669 0 \nL 3244 1197 \nL 1141 1197 \nL 716 0 \nL 50 0 \nL 1831 4666 \nz\n\" id=\"DejaVuSans-41\" transform=\"scale(0.015625)\"/>\n      </defs>\n      <use xlink:href=\"#DejaVuSans-41\"/>\n      <use x=\"66.658203\" xlink:href=\"#DejaVuSans-63\"/>\n      <use x=\"121.638672\" xlink:href=\"#DejaVuSans-63\"/>\n      <use x=\"176.619141\" xlink:href=\"#DejaVuSans-65\"/>\n      <use x=\"238.142578\" xlink:href=\"#DejaVuSans-6c\"/>\n      <use x=\"265.925781\" xlink:href=\"#DejaVuSans-65\"/>\n      <use x=\"327.449219\" xlink:href=\"#DejaVuSans-72\"/>\n      <use x=\"368.5625\" xlink:href=\"#DejaVuSans-61\"/>\n      <use x=\"429.841797\" xlink:href=\"#DejaVuSans-74\"/>\n      <use x=\"469.050781\" xlink:href=\"#DejaVuSans-65\"/>\n     </g>\n    </g>\n   </g>\n   <g id=\"line2d_49\">\n    <path clip-path=\"url(#pa2a7612a2c)\" d=\"M 166.762423 215.99854 \nL 258.993827 144.902894 \nL 351.225232 67.912516 \n\" style=\"fill:none;stroke:#008000;stroke-linecap:square;stroke-width:1.5;\"/>\n   </g>\n   <g id=\"patch_11\">\n    <path d=\"M 45.478125 239.758125 \nL 45.478125 22.318125 \n\" style=\"fill:none;stroke:#000000;stroke-linecap:square;stroke-linejoin:miter;stroke-width:0.8;\"/>\n   </g>\n   <g id=\"patch_12\">\n    <path d=\"M 380.278125 239.758125 \nL 380.278125 22.318125 \n\" style=\"fill:none;stroke:#000000;stroke-linecap:square;stroke-linejoin:miter;stroke-width:0.8;\"/>\n   </g>\n   <g id=\"patch_13\">\n    <path d=\"M 45.478125 239.758125 \nL 380.278125 239.758125 \n\" style=\"fill:none;stroke:#000000;stroke-linecap:square;stroke-linejoin:miter;stroke-width:0.8;\"/>\n   </g>\n   <g id=\"patch_14\">\n    <path d=\"M 45.478125 22.318125 \nL 380.278125 22.318125 \n\" style=\"fill:none;stroke:#000000;stroke-linecap:square;stroke-linejoin:miter;stroke-width:0.8;\"/>\n   </g>\n  </g>\n </g>\n <defs>\n  <clipPath id=\"pa2a7612a2c\">\n   <rect height=\"217.44\" width=\"334.8\" x=\"45.478125\" y=\"22.318125\"/>\n  </clipPath>\n </defs>\n</svg>\n",
                        "image/png": "[encoded data removed]"
                    },
                    "metadata": {
                        "needs_background": "light"
                    }
                }
            ],
            "metadata": {}
        }
    ],
    "metadata": {
        "orig_nbformat": 4,
        "language_info": {
            "name": "python",
            "version": "3.7.10",
            "mimetype": "text/x-python",
            "codemirror_mode": {
                "name": "ipython",
                "version": 3
            },
            "pygments_lexer": "ipython3",
            "nbconvert_exporter": "python",
            "file_extension": ".py"
        },
        "kernelspec": {
            "name": "python3",
            "display_name": "Python 3.7.10 64-bit ('fealpy': conda)"
        },
        "interpreter": {
            "hash": "2391f9d1f3ba2170b047602f8c9b345ed8836482f75c2cc1f98995c2c9e66af0"
        }
    },
    "nbformat": 4,
    "nbformat_minor": 2
}